{
 "cells": [
  {
   "cell_type": "markdown",
   "id": "61001cd4-39fd-4564-83c5-f79ca5da8158",
   "metadata": {
    "tags": []
   },
   "source": [
    "<h2>About this notebook</h2>\n",
    "\n",
    "A purpose of this notebook is to show how Python can implement mathematical notions in a very intuitive manner. Thus it is possible to write mathematical tutorials where the definitions can be directly executed as Python code. Presumably such a representation is appreciated by  learners. This tutorial is not complete, but just a proof of concept at the moment. \n",
    "\n",
    "Jupyter notebooks contain text cells and code cells.\n",
    "Code cells can be executed with <b>SHIFT-ENTER</b>. The next cell installs components and settings that are needed for this notebook and should be executed once after the notebook has been opened. The FCA software concepts.py was written by Sebastian Bank."
   ]
  },
  {
   "cell_type": "code",
   "execution_count": 1,
   "id": "e3f3b43f-7544-4ce3-8f61-59e9cc636827",
   "metadata": {},
   "outputs": [
    {
     "name": "stdout",
     "output_type": "stream",
     "text": [
      "Requirement already satisfied: concepts in /usr/local/lib/python3.9/site-packages (0.9.2)\n",
      "Requirement already satisfied: graphviz~=0.7 in /usr/local/lib/python3.9/site-packages (from concepts) (0.20.1)\n",
      "Requirement already satisfied: bitsets~=0.7 in /usr/local/lib/python3.9/site-packages (from concepts) (0.8.4)\n",
      "\n",
      "\u001b[1m[\u001b[0m\u001b[34;49mnotice\u001b[0m\u001b[1;39;49m]\u001b[0m\u001b[39;49m A new release of pip available: \u001b[0m\u001b[31;49m22.3.1\u001b[0m\u001b[39;49m -> \u001b[0m\u001b[32;49m23.1.2\u001b[0m\n",
      "\u001b[1m[\u001b[0m\u001b[34;49mnotice\u001b[0m\u001b[1;39;49m]\u001b[0m\u001b[39;49m To update, run: \u001b[0m\u001b[32;49mpython3.9 -m pip install --upgrade pip\u001b[0m\n"
     ]
    }
   ],
   "source": [
    "!pip install concepts\n",
    "from utils.fcasettings import *"
   ]
  },
  {
   "cell_type": "markdown",
   "id": "8f0428a4-e17a-4b07-94e9-64a86aec20e0",
   "metadata": {
    "tags": []
   },
   "source": [
    "<h2>FCA Tutorial</h2>\n",
    "\n",
    "<h3>Formal Contexts</h3>\n",
    "\n",
    "Formal Concept Analysis starts with the notion of a <i>formal context</i> that is defined as a triple $(O,A,I)$ where $O$ is a set of <i>formal objects</i>,\n",
    "$A$ is a set of <i>formal attributes</i> and $I$ (for <i>incidence</i> is a\n",
    "binary relation between $O$ and $A$ with $oIa$ denoting\n",
    "\"object $o$ has attribute $a$\". The software used in this notebook supports different ways of defining formal contexts, but using arrays instead of sets."
   ]
  },
  {
   "cell_type": "code",
   "execution_count": 2,
   "id": "a4cec0de-ad7e-45aa-a663-7b34cae4a702",
   "metadata": {},
   "outputs": [],
   "source": [
    "objects = (\"a\", \"b\", \"c\")\n",
    "attributes = (\"1\", \"2\", \"3\")\n",
    "incidence =  [(True, False, False), \n",
    "              (False, True, True), \n",
    "              (True, False, False)]\n",
    "ctx = Context(objects, attributes, incidence)"
   ]
  },
  {
   "cell_type": "markdown",
   "id": "6988d162-f7c3-4638-b51b-9b8658c22c1e",
   "metadata": {},
   "source": [
    "Functions for retrieving objects, attributes and the incidence relation are available:"
   ]
  },
  {
   "cell_type": "code",
   "execution_count": 3,
   "id": "c3f145a8-35a5-478c-af1c-61fc8e39a100",
   "metadata": {},
   "outputs": [
    {
     "data": {
      "text/plain": [
       "('a', 'b', 'c')"
      ]
     },
     "execution_count": 3,
     "metadata": {},
     "output_type": "execute_result"
    },
    {
     "data": {
      "text/plain": [
       "('1', '2', '3')"
      ]
     },
     "execution_count": 3,
     "metadata": {},
     "output_type": "execute_result"
    },
    {
     "data": {
      "text/plain": [
       "[(True, False, False), (False, True, True), (True, False, False)]"
      ]
     },
     "execution_count": 3,
     "metadata": {},
     "output_type": "execute_result"
    }
   ],
   "source": [
    "ctx.objects\n",
    "ctx.properties\n",
    "ctx.bools"
   ]
  },
  {
   "cell_type": "markdown",
   "id": "f4ff3d11-e7b0-4bc5-8578-34c55a9114bf",
   "metadata": {},
   "source": [
    "Here is a second example of creating a formal context:"
   ]
  },
  {
   "cell_type": "code",
   "execution_count": 4,
   "id": "b6668cd7-d433-429f-ac58-2b6afa0c0e68",
   "metadata": {},
   "outputs": [],
   "source": [
    "ctx2 = make_context('''\n",
    "     |male|female|adult|child|\n",
    "man  |  X |      |  X  |     |\n",
    "woman|    |   X  |  X  |     |\n",
    "boy  |  X |      |     |  X  |\n",
    "girl |    |   X  |     |  X  |\n",
    "''')  "
   ]
  },
  {
   "cell_type": "markdown",
   "id": "a0faa076-2bd7-46df-b93f-2921d57e6b94",
   "metadata": {},
   "source": [
    "The following function displays the relation as an array of tuples:"
   ]
  },
  {
   "cell_type": "code",
   "execution_count": 5,
   "id": "fb65ef11-8ae8-40c7-9dab-94cf64f5cb61",
   "metadata": {},
   "outputs": [
    {
     "data": {
      "text/plain": [
       "[('a', '1'), ('b', '2'), ('b', '3'), ('c', '1')]"
      ]
     },
     "execution_count": 5,
     "metadata": {},
     "output_type": "execute_result"
    }
   ],
   "source": [
    "showRelation(ctx)"
   ]
  },
  {
   "cell_type": "markdown",
   "id": "6bf5309a-b81b-4f75-a874-77a9774c8741",
   "metadata": {},
   "source": [
    "<h3>Prime Operator</h3>\n",
    "\n",
    "The <i>prime-operator</i>\n",
    "yields all common attributes of a set of objects $X \\subseteq O$,\n",
    "$ X':= \\{a \\in A \\mid oIa \\mbox{ for all } o \\in X \\} $\n",
    "or all common objects of a set of attributes $Y \\subseteq M$,\n",
    "$ Y':= \\{o \\in O \\mid oIa \\mbox{ for all } a \\in Y \\} $.\n",
    "\n",
    "These notions can be defined in Python in a very similar manner:"
   ]
  },
  {
   "cell_type": "code",
   "execution_count": 6,
   "id": "9a9dc2a7-50b1-458b-b9e4-b682f3189bab",
   "metadata": {},
   "outputs": [],
   "source": [
    "def objprime(contxt,setX):\n",
    "    return {a for a in contxt.properties if all((o,a) in showRelation(contxt) for o in setX)}\n",
    "def attrprime(contxt,setY):\n",
    "    return {o for o in contxt.objects if all((o,a) in showRelation(contxt) for a in setY)}"
   ]
  },
  {
   "cell_type": "code",
   "execution_count": 7,
   "id": "971e1063-3181-474c-9dab-c6fc7a6535ba",
   "metadata": {},
   "outputs": [
    {
     "data": {
      "text/plain": [
       "{'1'}"
      ]
     },
     "execution_count": 7,
     "metadata": {},
     "output_type": "execute_result"
    },
    {
     "data": {
      "text/plain": [
       "{'b'}"
      ]
     },
     "execution_count": 7,
     "metadata": {},
     "output_type": "execute_result"
    },
    {
     "data": {
      "text/plain": [
       "{'a', 'c'}"
      ]
     },
     "execution_count": 7,
     "metadata": {},
     "output_type": "execute_result"
    },
    {
     "data": {
      "text/plain": [
       "{'1'}"
      ]
     },
     "execution_count": 7,
     "metadata": {},
     "output_type": "execute_result"
    }
   ],
   "source": [
    "# For example:\n",
    "objprime(ctx,{'a'})\n",
    "attrprime(ctx,{'2','3'})\n",
    "attrprime(ctx,{'1'})\n",
    "objprime(ctx,{'a','c'})"
   ]
  },
  {
   "cell_type": "markdown",
   "id": "3a03f662-d5d8-4bd4-9bef-50e52c43452c",
   "metadata": {},
   "source": [
    "<h3>Formal Concepts and Concept Lattices</h3>\n",
    "\n",
    "A pair $(X,Y)$ with $X \\subseteq O, Y \\subseteq A$ is said to be a <i>formal concept</i> \n",
    "of the context $(O,A,I)$ if $X=Y'$ and $ Y=X'$.\n",
    "\n",
    "Again this can be directly translated into Python:"
   ]
  },
  {
   "cell_type": "code",
   "execution_count": 8,
   "id": "10ff12d8-2b79-4a60-8c73-3bbae05933f1",
   "metadata": {},
   "outputs": [],
   "source": [
    "def isConcept (contxt,setX,setY):\n",
    "    return setX == attrprime(contxt,setY) and setY == objprime(contxt,setX)"
   ]
  },
  {
   "cell_type": "code",
   "execution_count": 9,
   "id": "0ba7613d-4a99-4699-97d9-92324aa650ed",
   "metadata": {},
   "outputs": [
    {
     "data": {
      "text/plain": [
       "True"
      ]
     },
     "execution_count": 9,
     "metadata": {},
     "output_type": "execute_result"
    },
    {
     "data": {
      "text/plain": [
       "False"
      ]
     },
     "execution_count": 9,
     "metadata": {},
     "output_type": "execute_result"
    }
   ],
   "source": [
    "isConcept(ctx,{'b'},{'2','3'})\n",
    "isConcept(ctx,{'b'},{'1','3'})"
   ]
  },
  {
   "cell_type": "markdown",
   "id": "0119ce4d-a7c4-41e2-89d5-c812f32cab8b",
   "metadata": {},
   "source": [
    "If $(X,Y)$ is a concept, then $X$ is called the <i>extent</i>, $Y$ is called the\n",
    "<i>intent</i> of the concept."
   ]
  },
  {
   "cell_type": "markdown",
   "id": "4b135f84-00db-4c86-bf58-ccbbbbce2306",
   "metadata": {},
   "source": [
    "The set of all concepts of $(O,A,I)$ is denoted by\n",
    "${\\cal B}(O,A,I)$.\n",
    "\n",
    "In the Python code below the extents and intents are represented as tuples instead of sets because that is easier for programming. "
   ]
  },
  {
   "cell_type": "code",
   "execution_count": 10,
   "id": "3b8d394f-9565-48d5-8c1e-eb0c42ca2231",
   "metadata": {},
   "outputs": [
    {
     "data": {
      "text/plain": [
       "{((), ('male', 'female', 'adult', 'child')),\n",
       " (('boy',), ('male', 'child')),\n",
       " (('boy', 'girl'), ('child',)),\n",
       " (('girl',), ('female', 'child')),\n",
       " (('man',), ('male', 'adult')),\n",
       " (('man', 'boy'), ('male',)),\n",
       " (('man', 'woman'), ('adult',)),\n",
       " (('man', 'woman', 'boy', 'girl'), ()),\n",
       " (('woman',), ('female', 'adult')),\n",
       " (('woman', 'girl'), ('female',))}"
      ]
     },
     "execution_count": 10,
     "metadata": {},
     "output_type": "execute_result"
    }
   ],
   "source": [
    "setOfAllConcepts(ctx2)"
   ]
  },
  {
   "cell_type": "markdown",
   "id": "1364b378-c83d-4d0f-a0f0-cca2a76e503d",
   "metadata": {},
   "source": [
    "The diagram of a lattice can also be produced:"
   ]
  },
  {
   "cell_type": "code",
   "execution_count": 11,
   "id": "136315d2-05de-4c0e-89c1-2b381d70bce4",
   "metadata": {},
   "outputs": [
    {
     "data": {
      "image/svg+xml": [
       "<?xml version=\"1.0\" encoding=\"UTF-8\" standalone=\"no\"?>\n",
       "<!DOCTYPE svg PUBLIC \"-//W3C//DTD SVG 1.1//EN\"\n",
       " \"http://www.w3.org/Graphics/SVG/1.1/DTD/svg11.dtd\">\n",
       "<!-- Generated by graphviz version 6.0.1 (20220911.1526)\n",
       " -->\n",
       "<!-- Title: Lattice Pages: 1 -->\n",
       "<svg width=\"240pt\" height=\"299pt\"\n",
       " viewBox=\"0.00 0.00 240.24 299.00\" xmlns=\"http://www.w3.org/2000/svg\" xmlns:xlink=\"http://www.w3.org/1999/xlink\">\n",
       "<g id=\"graph0\" class=\"graph\" transform=\"scale(1 1) rotate(0) translate(4 295)\">\n",
       "<title>Lattice</title>\n",
       "<polygon fill=\"white\" stroke=\"none\" points=\"-4,4 -4,-295 236.24,-295 236.24,4 -4,4\"/>\n",
       "<!-- c0 -->\n",
       "<g id=\"node1\" class=\"node\">\n",
       "<title>c0</title>\n",
       "<ellipse fill=\"lightgrey\" stroke=\"black\" cx=\"110.24\" cy=\"-9\" rx=\"9\" ry=\"9\"/>\n",
       "</g>\n",
       "<!-- c1 -->\n",
       "<g id=\"node2\" class=\"node\">\n",
       "<title>c1</title>\n",
       "<ellipse fill=\"lightgrey\" stroke=\"black\" cx=\"29.24\" cy=\"-100\" rx=\"9\" ry=\"9\"/>\n",
       "</g>\n",
       "<!-- c1&#45;&gt;c0 -->\n",
       "<g id=\"edge2\" class=\"edge\">\n",
       "<title>c1&#45;&gt;c0</title>\n",
       "<path fill=\"none\" stroke=\"black\" d=\"M34.81,-92.88C49.54,-76.7 89.41,-32.89 104.42,-16.4\"/>\n",
       "</g>\n",
       "<!-- c1&#45;&gt;c1 -->\n",
       "<g id=\"edge1\" class=\"edge\">\n",
       "<title>c1&#45;&gt;c1</title>\n",
       "<path fill=\"none\" stroke=\"none\" d=\"M36.16,-105.83C45.26,-110.83 56.24,-108.89 56.24,-100 56.24,-91.11 45.26,-89.17 36.16,-94.17\"/>\n",
       "<text text-anchor=\"middle\" x=\"29.83\" y=\"-76.87\" font-family=\"Times,serif\" font-size=\"14.00\">man</text>\n",
       "</g>\n",
       "<!-- c2 -->\n",
       "<g id=\"node3\" class=\"node\">\n",
       "<title>c2</title>\n",
       "<ellipse fill=\"lightgrey\" stroke=\"black\" cx=\"83.24\" cy=\"-100\" rx=\"9\" ry=\"9\"/>\n",
       "</g>\n",
       "<!-- c2&#45;&gt;c0 -->\n",
       "<g id=\"edge4\" class=\"edge\">\n",
       "<title>c2&#45;&gt;c0</title>\n",
       "<path fill=\"none\" stroke=\"black\" d=\"M85.64,-91.1C90.77,-74.17 102.79,-34.56 107.89,-17.75\"/>\n",
       "</g>\n",
       "<!-- c2&#45;&gt;c2 -->\n",
       "<g id=\"edge3\" class=\"edge\">\n",
       "<title>c2&#45;&gt;c2</title>\n",
       "<path fill=\"none\" stroke=\"none\" d=\"M90.16,-105.83C99.26,-110.83 110.24,-108.89 110.24,-100 110.24,-91.11 99.26,-89.17 90.16,-94.17\"/>\n",
       "<text text-anchor=\"middle\" x=\"83.83\" y=\"-76.87\" font-family=\"Times,serif\" font-size=\"14.00\">woman</text>\n",
       "</g>\n",
       "<!-- c3 -->\n",
       "<g id=\"node4\" class=\"node\">\n",
       "<title>c3</title>\n",
       "<ellipse fill=\"lightgrey\" stroke=\"black\" cx=\"137.24\" cy=\"-100\" rx=\"9\" ry=\"9\"/>\n",
       "</g>\n",
       "<!-- c3&#45;&gt;c0 -->\n",
       "<g id=\"edge6\" class=\"edge\">\n",
       "<title>c3&#45;&gt;c0</title>\n",
       "<path fill=\"none\" stroke=\"black\" d=\"M134.85,-91.1C129.71,-74.17 117.69,-34.56 112.59,-17.75\"/>\n",
       "</g>\n",
       "<!-- c3&#45;&gt;c3 -->\n",
       "<g id=\"edge5\" class=\"edge\">\n",
       "<title>c3&#45;&gt;c3</title>\n",
       "<path fill=\"none\" stroke=\"none\" d=\"M144.16,-105.83C153.26,-110.83 164.24,-108.89 164.24,-100 164.24,-91.11 153.26,-89.17 144.16,-94.17\"/>\n",
       "<text text-anchor=\"middle\" x=\"137.83\" y=\"-76.87\" font-family=\"Times,serif\" font-size=\"14.00\">boy</text>\n",
       "</g>\n",
       "<!-- c4 -->\n",
       "<g id=\"node5\" class=\"node\">\n",
       "<title>c4</title>\n",
       "<ellipse fill=\"lightgrey\" stroke=\"black\" cx=\"191.24\" cy=\"-100\" rx=\"9\" ry=\"9\"/>\n",
       "</g>\n",
       "<!-- c4&#45;&gt;c0 -->\n",
       "<g id=\"edge8\" class=\"edge\">\n",
       "<title>c4&#45;&gt;c0</title>\n",
       "<path fill=\"none\" stroke=\"black\" d=\"M185.67,-92.88C170.95,-76.7 131.08,-32.89 116.07,-16.4\"/>\n",
       "</g>\n",
       "<!-- c4&#45;&gt;c4 -->\n",
       "<g id=\"edge7\" class=\"edge\">\n",
       "<title>c4&#45;&gt;c4</title>\n",
       "<path fill=\"none\" stroke=\"none\" d=\"M198.16,-105.83C207.26,-110.83 218.24,-108.89 218.24,-100 218.24,-91.11 207.26,-89.17 198.16,-94.17\"/>\n",
       "<text text-anchor=\"middle\" x=\"191.83\" y=\"-76.87\" font-family=\"Times,serif\" font-size=\"14.00\">girl</text>\n",
       "</g>\n",
       "<!-- c5 -->\n",
       "<g id=\"node6\" class=\"node\">\n",
       "<title>c5</title>\n",
       "<ellipse fill=\"lightgrey\" stroke=\"black\" cx=\"15.24\" cy=\"-191\" rx=\"9\" ry=\"9\"/>\n",
       "</g>\n",
       "<!-- c5&#45;&gt;c1 -->\n",
       "<g id=\"edge10\" class=\"edge\">\n",
       "<title>c5&#45;&gt;c1</title>\n",
       "<path fill=\"none\" stroke=\"black\" d=\"M10.44,-183.01C4.98,-174.18 -2.69,-158.51 1.24,-145 5.6,-130.05 16.74,-115.33 23.58,-107.27\"/>\n",
       "</g>\n",
       "<!-- c5&#45;&gt;c2 -->\n",
       "<g id=\"edge11\" class=\"edge\">\n",
       "<title>c5&#45;&gt;c2</title>\n",
       "<path fill=\"none\" stroke=\"black\" d=\"M20.35,-183.31C32.95,-166.82 65.41,-124.34 78.07,-107.77\"/>\n",
       "</g>\n",
       "<!-- c5&#45;&gt;c5 -->\n",
       "<g id=\"edge9\" class=\"edge\">\n",
       "<title>c5&#45;&gt;c5</title>\n",
       "<path fill=\"none\" stroke=\"none\" d=\"M22.16,-196.83C31.26,-201.83 42.24,-199.89 42.24,-191 42.24,-182.11 31.26,-180.17 22.16,-185.17\"/>\n",
       "<text text-anchor=\"middle\" x=\"15.83\" y=\"-206.73\" font-family=\"Times,serif\" font-size=\"14.00\">adult</text>\n",
       "</g>\n",
       "<!-- c6 -->\n",
       "<g id=\"node7\" class=\"node\">\n",
       "<title>c6</title>\n",
       "<ellipse fill=\"lightgrey\" stroke=\"black\" cx=\"83.24\" cy=\"-191\" rx=\"9\" ry=\"9\"/>\n",
       "</g>\n",
       "<!-- c6&#45;&gt;c1 -->\n",
       "<g id=\"edge13\" class=\"edge\">\n",
       "<title>c6&#45;&gt;c1</title>\n",
       "<path fill=\"none\" stroke=\"black\" d=\"M79,-183.02C68.96,-166.46 43.78,-124.97 33.61,-108.2\"/>\n",
       "</g>\n",
       "<!-- c6&#45;&gt;c3 -->\n",
       "<g id=\"edge14\" class=\"edge\">\n",
       "<title>c6&#45;&gt;c3</title>\n",
       "<path fill=\"none\" stroke=\"black\" d=\"M87.48,-183.02C97.52,-166.46 122.7,-124.97 132.87,-108.2\"/>\n",
       "</g>\n",
       "<!-- c6&#45;&gt;c6 -->\n",
       "<g id=\"edge12\" class=\"edge\">\n",
       "<title>c6&#45;&gt;c6</title>\n",
       "<path fill=\"none\" stroke=\"none\" d=\"M90.16,-196.83C99.26,-201.83 110.24,-199.89 110.24,-191 110.24,-182.11 99.26,-180.17 90.16,-185.17\"/>\n",
       "<text text-anchor=\"middle\" x=\"83.83\" y=\"-206.73\" font-family=\"Times,serif\" font-size=\"14.00\">male</text>\n",
       "</g>\n",
       "<!-- c7 -->\n",
       "<g id=\"node8\" class=\"node\">\n",
       "<title>c7</title>\n",
       "<ellipse fill=\"lightgrey\" stroke=\"black\" cx=\"137.24\" cy=\"-191\" rx=\"9\" ry=\"9\"/>\n",
       "</g>\n",
       "<!-- c7&#45;&gt;c2 -->\n",
       "<g id=\"edge16\" class=\"edge\">\n",
       "<title>c7&#45;&gt;c2</title>\n",
       "<path fill=\"none\" stroke=\"black\" d=\"M133,-183.02C122.96,-166.46 97.78,-124.97 87.61,-108.2\"/>\n",
       "</g>\n",
       "<!-- c7&#45;&gt;c4 -->\n",
       "<g id=\"edge17\" class=\"edge\">\n",
       "<title>c7&#45;&gt;c4</title>\n",
       "<path fill=\"none\" stroke=\"black\" d=\"M141.48,-183.02C151.52,-166.46 176.7,-124.97 186.87,-108.2\"/>\n",
       "</g>\n",
       "<!-- c7&#45;&gt;c7 -->\n",
       "<g id=\"edge15\" class=\"edge\">\n",
       "<title>c7&#45;&gt;c7</title>\n",
       "<path fill=\"none\" stroke=\"none\" d=\"M144.16,-196.83C153.26,-201.83 164.24,-199.89 164.24,-191 164.24,-182.11 153.26,-180.17 144.16,-185.17\"/>\n",
       "<text text-anchor=\"middle\" x=\"137.83\" y=\"-206.73\" font-family=\"Times,serif\" font-size=\"14.00\">female</text>\n",
       "</g>\n",
       "<!-- c8 -->\n",
       "<g id=\"node9\" class=\"node\">\n",
       "<title>c8</title>\n",
       "<ellipse fill=\"lightgrey\" stroke=\"black\" cx=\"205.24\" cy=\"-191\" rx=\"9\" ry=\"9\"/>\n",
       "</g>\n",
       "<!-- c8&#45;&gt;c3 -->\n",
       "<g id=\"edge19\" class=\"edge\">\n",
       "<title>c8&#45;&gt;c3</title>\n",
       "<path fill=\"none\" stroke=\"black\" d=\"M200.13,-183.31C187.53,-166.82 155.08,-124.34 142.41,-107.77\"/>\n",
       "</g>\n",
       "<!-- c8&#45;&gt;c4 -->\n",
       "<g id=\"edge20\" class=\"edge\">\n",
       "<title>c8&#45;&gt;c4</title>\n",
       "<path fill=\"none\" stroke=\"black\" d=\"M210.05,-183.01C215.5,-174.18 223.18,-158.51 219.24,-145 214.89,-130.05 203.74,-115.33 196.9,-107.27\"/>\n",
       "</g>\n",
       "<!-- c8&#45;&gt;c8 -->\n",
       "<g id=\"edge18\" class=\"edge\">\n",
       "<title>c8&#45;&gt;c8</title>\n",
       "<path fill=\"none\" stroke=\"none\" d=\"M212.16,-196.83C221.26,-201.83 232.24,-199.89 232.24,-191 232.24,-182.11 221.26,-180.17 212.16,-185.17\"/>\n",
       "<text text-anchor=\"middle\" x=\"205.83\" y=\"-206.73\" font-family=\"Times,serif\" font-size=\"14.00\">child</text>\n",
       "</g>\n",
       "<!-- c9 -->\n",
       "<g id=\"node10\" class=\"node\">\n",
       "<title>c9</title>\n",
       "<ellipse fill=\"lightgrey\" stroke=\"black\" cx=\"110.24\" cy=\"-282\" rx=\"9\" ry=\"9\"/>\n",
       "</g>\n",
       "<!-- c9&#45;&gt;c5 -->\n",
       "<g id=\"edge21\" class=\"edge\">\n",
       "<title>c9&#45;&gt;c5</title>\n",
       "<path fill=\"none\" stroke=\"black\" d=\"M104.01,-275.16C86.84,-259.07 38.97,-214.23 21.62,-197.98\"/>\n",
       "</g>\n",
       "<!-- c9&#45;&gt;c6 -->\n",
       "<g id=\"edge22\" class=\"edge\">\n",
       "<title>c9&#45;&gt;c6</title>\n",
       "<path fill=\"none\" stroke=\"black\" d=\"M107.85,-273.1C102.71,-256.17 90.69,-216.56 85.59,-199.75\"/>\n",
       "</g>\n",
       "<!-- c9&#45;&gt;c7 -->\n",
       "<g id=\"edge23\" class=\"edge\">\n",
       "<title>c9&#45;&gt;c7</title>\n",
       "<path fill=\"none\" stroke=\"black\" d=\"M112.64,-273.1C117.77,-256.17 129.79,-216.56 134.89,-199.75\"/>\n",
       "</g>\n",
       "<!-- c9&#45;&gt;c8 -->\n",
       "<g id=\"edge24\" class=\"edge\">\n",
       "<title>c9&#45;&gt;c8</title>\n",
       "<path fill=\"none\" stroke=\"black\" d=\"M116.48,-275.16C133.65,-259.07 181.51,-214.23 198.86,-197.98\"/>\n",
       "</g>\n",
       "</g>\n",
       "</svg>\n"
      ],
      "text/plain": [
       "<graphviz.graphs.Digraph at 0x10b62c490>"
      ]
     },
     "execution_count": 11,
     "metadata": {},
     "output_type": "execute_result"
    }
   ],
   "source": [
    "ctx2.lattice.graphviz()"
   ]
  },
  {
   "cell_type": "code",
   "execution_count": null,
   "id": "655352e0-883f-480f-96e0-2d5faa9963a1",
   "metadata": {},
   "outputs": [],
   "source": []
  }
 ],
 "metadata": {
  "kernelspec": {
   "display_name": "Python 3 (ipykernel)",
   "language": "python",
   "name": "python3"
  },
  "language_info": {
   "codemirror_mode": {
    "name": "ipython",
    "version": 3
   },
   "file_extension": ".py",
   "mimetype": "text/x-python",
   "name": "python",
   "nbconvert_exporter": "python",
   "pygments_lexer": "ipython3",
   "version": "3.10.8"
  }
 },
 "nbformat": 4,
 "nbformat_minor": 5
}
