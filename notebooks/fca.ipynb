{
 "cells": [
  {
   "cell_type": "markdown",
   "id": "61001cd4-39fd-4564-83c5-f79ca5da8158",
   "metadata": {
    "tags": []
   },
   "source": [
    "<h2>About this notebook</h2>\n",
    "\n",
    "A purpose of this notebook is to show how Python can implement mathematical notions in a very intuitive manner. Thus it is possible to write mathematical tutorials where the definitions can be directly executed as Python code. Presumably such a representation is appreciated by  learners. This tutorial is not complete, but just a proof of concept at the moment. \n",
    "\n",
    "Jupyter notebooks contain text cells and code cells.\n",
    "Code cells can be executed with <b>SHIFT-ENTER</b>. The next cell installs components and settings that are needed for this notebook and should be executed once after the notebook has been opened. The FCA software concepts.py was written by Sebastian Bank."
   ]
  },
  {
   "cell_type": "code",
   "execution_count": null,
   "id": "e3f3b43f-7544-4ce3-8f61-59e9cc636827",
   "metadata": {},
   "outputs": [],
   "source": [
    "!pip install concepts\n",
    "from utils.fcasettings import *"
   ]
  },
  {
   "cell_type": "markdown",
   "id": "8f0428a4-e17a-4b07-94e9-64a86aec20e0",
   "metadata": {
    "tags": []
   },
   "source": [
    "<h2>FCA Tutorial</h2>\n",
    "\n",
    "<h3>Formal Contexts</h3>\n",
    "\n",
    "Formal Concept Analysis starts with the notion of a <i>formal context</i> that is defined as a triple $(O,A,I)$ where $O$ is a set of <i>formal objects</i>,\n",
    "$A$ is a set of <i>formal attributes</i> and $I$ (for <i>incidence</i> is a\n",
    "binary relation between $O$ and $A$ with $oIa$ denoting\n",
    "\"object $o$ has attribute $a$\". The software used in this notebook supports different ways of defining formal contexts, but using arrays instead of sets."
   ]
  },
  {
   "cell_type": "code",
   "execution_count": null,
   "id": "a4cec0de-ad7e-45aa-a663-7b34cae4a702",
   "metadata": {},
   "outputs": [],
   "source": [
    "objects = (\"a\", \"b\", \"c\")\n",
    "attributes = (\"1\", \"2\", \"3\")\n",
    "incidence =  [(True, False, False), \n",
    "              (False, True, True), \n",
    "              (True, False, False)]\n",
    "ctx = Context(objects, attributes, incidence)"
   ]
  },
  {
   "cell_type": "markdown",
   "id": "6988d162-f7c3-4638-b51b-9b8658c22c1e",
   "metadata": {},
   "source": [
    "Functions for retrieving objects, attributes and the incidence relation are available:"
   ]
  },
  {
   "cell_type": "code",
   "execution_count": null,
   "id": "c3f145a8-35a5-478c-af1c-61fc8e39a100",
   "metadata": {},
   "outputs": [],
   "source": [
    "ctx.objects\n",
    "ctx.properties\n",
    "ctx.bools"
   ]
  },
  {
   "cell_type": "markdown",
   "id": "f4ff3d11-e7b0-4bc5-8578-34c55a9114bf",
   "metadata": {},
   "source": [
    "Here is a second example of creating a formal context:"
   ]
  },
  {
   "cell_type": "code",
   "execution_count": null,
   "id": "b6668cd7-d433-429f-ac58-2b6afa0c0e68",
   "metadata": {},
   "outputs": [],
   "source": [
    "ctx2 = make_context('''\n",
    "     |male|female|adult|child|\n",
    "man  |  X |      |  X  |     |\n",
    "woman|    |   X  |  X  |     |\n",
    "boy  |  X |      |     |  X  |\n",
    "girl |    |   X  |     |  X  |\n",
    "''')  "
   ]
  },
  {
   "cell_type": "markdown",
   "id": "a0faa076-2bd7-46df-b93f-2921d57e6b94",
   "metadata": {},
   "source": [
    "The following function displays the relation as an array of tuples:"
   ]
  },
  {
   "cell_type": "code",
   "execution_count": null,
   "id": "fb65ef11-8ae8-40c7-9dab-94cf64f5cb61",
   "metadata": {},
   "outputs": [],
   "source": [
    "showRelation(ctx)"
   ]
  },
  {
   "cell_type": "markdown",
   "id": "6bf5309a-b81b-4f75-a874-77a9774c8741",
   "metadata": {},
   "source": [
    "<h3>Prime Operator</h3>\n",
    "\n",
    "The <i>prime-operator</i>\n",
    "yields all common attributes of a set of objects $X \\subseteq O$,\n",
    "$ X':= \\{a \\in A \\mid oIa \\mbox{ for all } o \\in X \\} $\n",
    "or all common objects of a set of attributes $Y \\subseteq M$,\n",
    "$ Y':= \\{o \\in O \\mid oIa \\mbox{ for all } a \\in Y \\} $.\n",
    "\n",
    "These notions can be defined in Python in a very similar manner:"
   ]
  },
  {
   "cell_type": "code",
   "execution_count": null,
   "id": "9a9dc2a7-50b1-458b-b9e4-b682f3189bab",
   "metadata": {},
   "outputs": [],
   "source": [
    "def objprime(contxt,setX):\n",
    "    return {a for a in contxt.properties if all((o,a) in showRelation(contxt) for o in setX)}\n",
    "def attrprime(contxt,setY):\n",
    "    return {o for o in contxt.objects if all((o,a) in showRelation(contxt) for a in setY)}"
   ]
  },
  {
   "cell_type": "code",
   "execution_count": null,
   "id": "971e1063-3181-474c-9dab-c6fc7a6535ba",
   "metadata": {},
   "outputs": [],
   "source": [
    "# For example:\n",
    "objprime(ctx,{'a'})\n",
    "attrprime(ctx,{'2','3'})\n",
    "attrprime(ctx,{'1'})\n",
    "objprime(ctx,{'a','c'})"
   ]
  },
  {
   "cell_type": "markdown",
   "id": "3a03f662-d5d8-4bd4-9bef-50e52c43452c",
   "metadata": {},
   "source": [
    "<h3>Formal Concepts and Concept Lattices</h3>\n",
    "\n",
    "A pair $(X,Y)$ with $X \\subseteq O, Y \\subseteq A$ is said to be a <i>formal concept</i> \n",
    "of the context $(O,A,I)$ if $X=Y'$ and $ Y=X'$.\n",
    "\n",
    "Again this can be directly translated into Python:"
   ]
  },
  {
   "cell_type": "code",
   "execution_count": null,
   "id": "10ff12d8-2b79-4a60-8c73-3bbae05933f1",
   "metadata": {},
   "outputs": [],
   "source": [
    "def isConcept (contxt,setX,setY):\n",
    "    return setX == attrprime(contxt,setY) and setY == objprime(contxt,setX)"
   ]
  },
  {
   "cell_type": "code",
   "execution_count": null,
   "id": "0ba7613d-4a99-4699-97d9-92324aa650ed",
   "metadata": {},
   "outputs": [],
   "source": [
    "isConcept(ctx,{'b'},{'2','3'})\n",
    "isConcept(ctx,{'b'},{'1','3'})"
   ]
  },
  {
   "cell_type": "markdown",
   "id": "0119ce4d-a7c4-41e2-89d5-c812f32cab8b",
   "metadata": {},
   "source": [
    "If $(X,Y)$ is a concept, then $X$ is called the <i>extent</i>, $Y$ is called the\n",
    "<i>intent</i> of the concept."
   ]
  },
  {
   "cell_type": "markdown",
   "id": "4b135f84-00db-4c86-bf58-ccbbbbce2306",
   "metadata": {},
   "source": [
    "The set of all concepts of $(O,A,I)$ is denoted by\n",
    "${\\cal B}(O,A,I)$.\n",
    "\n",
    "In the Python code below the extents and intents are represented as tuples instead of sets because that is easier for programming. "
   ]
  },
  {
   "cell_type": "code",
   "execution_count": null,
   "id": "3b8d394f-9565-48d5-8c1e-eb0c42ca2231",
   "metadata": {},
   "outputs": [],
   "source": [
    "setOfAllConcepts(ctx2)"
   ]
  },
  {
   "cell_type": "markdown",
   "id": "1364b378-c83d-4d0f-a0f0-cca2a76e503d",
   "metadata": {},
   "source": [
    "The diagram of a lattice can also be produced. Unfortunately the command requires graphviz to be installed locally (instead of as a python module). Thus it might not work."
   ]
  },
  {
   "cell_type": "code",
   "execution_count": null,
   "id": "136315d2-05de-4c0e-89c1-2b381d70bce4",
   "metadata": {},
   "outputs": [],
   "source": [
    "ctx2.lattice.graphviz()"
   ]
  },
  {
   "cell_type": "code",
   "execution_count": null,
   "id": "655352e0-883f-480f-96e0-2d5faa9963a1",
   "metadata": {},
   "outputs": [],
   "source": []
  }
 ],
 "metadata": {
  "kernelspec": {
   "display_name": "Python 3 (ipykernel)",
   "language": "python",
   "name": "python3"
  },
  "language_info": {
   "codemirror_mode": {
    "name": "ipython",
    "version": 3
   },
   "file_extension": ".py",
   "mimetype": "text/x-python",
   "name": "python",
   "nbconvert_exporter": "python",
   "pygments_lexer": "ipython3",
   "version": "3.10.8"
  }
 },
 "nbformat": 4,
 "nbformat_minor": 5
}
